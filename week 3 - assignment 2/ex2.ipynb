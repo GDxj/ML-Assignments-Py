{
 "cells": [
  {
   "cell_type": "code",
   "execution_count": 367,
   "metadata": {},
   "outputs": [
    {
     "data": {
      "text/plain": [
       "'C:\\\\Users\\\\gdong\\\\Desktop\\\\ML -AN\\\\Assignments\\\\ex2'"
      ]
     },
     "execution_count": 367,
     "metadata": {},
     "output_type": "execute_result"
    }
   ],
   "source": [
    "# 1 Logistic Regression: predict whether a student gets admitted into a university\n",
    "## import packeges\n",
    "import os\n",
    "import numpy as np\n",
    "import pandas as pd\n",
    "import matplotlib.pyplot as plt\n",
    "import scipy.optimize as op\n",
    "from matplotlib import pyplot\n",
    "## set work directory\n",
    "os.chdir('C:\\\\Users\\\\gdong\\\\Desktop\\\\ML -AN\\\\Assignments\\ex2\\\\')\n",
    "os.getcwd()"
   ]
  },
  {
   "cell_type": "code",
   "execution_count": 368,
   "metadata": {},
   "outputs": [
    {
     "data": {
      "text/html": [
       "<div>\n",
       "<style scoped>\n",
       "    .dataframe tbody tr th:only-of-type {\n",
       "        vertical-align: middle;\n",
       "    }\n",
       "\n",
       "    .dataframe tbody tr th {\n",
       "        vertical-align: top;\n",
       "    }\n",
       "\n",
       "    .dataframe thead th {\n",
       "        text-align: right;\n",
       "    }\n",
       "</style>\n",
       "<table border=\"1\" class=\"dataframe\">\n",
       "  <thead>\n",
       "    <tr style=\"text-align: right;\">\n",
       "      <th></th>\n",
       "      <th>e1_score</th>\n",
       "      <th>e2_score</th>\n",
       "      <th>admit</th>\n",
       "    </tr>\n",
       "  </thead>\n",
       "  <tbody>\n",
       "    <tr>\n",
       "      <td>0</td>\n",
       "      <td>34.623660</td>\n",
       "      <td>78.024693</td>\n",
       "      <td>0</td>\n",
       "    </tr>\n",
       "    <tr>\n",
       "      <td>1</td>\n",
       "      <td>30.286711</td>\n",
       "      <td>43.894998</td>\n",
       "      <td>0</td>\n",
       "    </tr>\n",
       "    <tr>\n",
       "      <td>2</td>\n",
       "      <td>35.847409</td>\n",
       "      <td>72.902198</td>\n",
       "      <td>0</td>\n",
       "    </tr>\n",
       "    <tr>\n",
       "      <td>3</td>\n",
       "      <td>60.182599</td>\n",
       "      <td>86.308552</td>\n",
       "      <td>1</td>\n",
       "    </tr>\n",
       "    <tr>\n",
       "      <td>4</td>\n",
       "      <td>79.032736</td>\n",
       "      <td>75.344376</td>\n",
       "      <td>1</td>\n",
       "    </tr>\n",
       "  </tbody>\n",
       "</table>\n",
       "</div>"
      ],
      "text/plain": [
       "    e1_score   e2_score  admit\n",
       "0  34.623660  78.024693      0\n",
       "1  30.286711  43.894998      0\n",
       "2  35.847409  72.902198      0\n",
       "3  60.182599  86.308552      1\n",
       "4  79.032736  75.344376      1"
      ]
     },
     "execution_count": 368,
     "metadata": {},
     "output_type": "execute_result"
    }
   ],
   "source": [
    "## read data\n",
    "dat = pd.read_table('./ex2data1.txt', sep = ',', names=('e1_score', 'e2_score','admit'))\n",
    "dat.head()\n"
   ]
  },
  {
   "cell_type": "code",
   "execution_count": 369,
   "metadata": {},
   "outputs": [
    {
     "data": {
      "image/png": "[encoded data removed]",
      "text/plain": [
       "<Figure size 432x288 with 1 Axes>"
      ]
     },
     "metadata": {
      "needs_background": "light"
     },
     "output_type": "display_data"
    }
   ],
   "source": [
    "# 1.1 Visualizing the data\n",
    "def plotData(dat,xlab,ylab):\n",
    "    x1,y1 = dat[dat.iloc[:,2]==1].iloc[:,0],dat[dat.iloc[:,2]==1].iloc[:,1]\n",
    "    plt.scatter(x1, y1, color='black',label = xlab)\n",
    "\n",
    "    x2,y2 = dat[dat.iloc[:,2]==0].iloc[:,0],dat[dat.iloc[:,2]==0].iloc[:,1]\n",
    "    plt.scatter(x2, y2, color='yellow',label = ylab)\n",
    "\n",
    "    plt.xlabel('e1_score')\n",
    "    plt.ylabel('e2_score')\n",
    "\n",
    "    plt.legend(loc='upper right')\n",
    "\n",
    "plotData(dat,'admited','notAdmited')"
   ]
  },
  {
   "cell_type": "code",
   "execution_count": 370,
   "metadata": {},
   "outputs": [
    {
     "data": {
      "text/plain": [
       "0.5"
      ]
     },
     "execution_count": 370,
     "metadata": {},
     "output_type": "execute_result"
    }
   ],
   "source": [
    "# 1.2 Implementation\n",
    "## sigmoid function\n",
    "def Sigmoid(z):\n",
    "    g = 1/(1+np.exp(-z))\n",
    "    return g\n",
    "sigmoid(0)"
   ]
  },
  {
   "cell_type": "code",
   "execution_count": 371,
   "metadata": {},
   "outputs": [],
   "source": [
    "# 1.2.2 Cost function and gradient\n",
    "## gradient\n",
    "def Gradient(theta,X,y):\n",
    "    m,n = X.shape\n",
    "    theta = theta.reshape((n,1))\n",
    "    y = y.reshape((m,1))\n",
    "    grad = ((X.T).dot(Sigmoid(X.dot(theta))-y))/m\n",
    "    return grad  \n",
    "    #J_theta = 1/m*(np.sum(-y*np.log(sigmoid(np.matmul(np.transpose(theta),X))) \n",
    "                          #- (1-y)*np.log(1-sigmoid(np.matmul(np.transpose(theta),X)))))\n",
    "    #theta = theta - alpha/m*np.transpose(X)*(sigmoid(np.matmul(X*theta))-y)\n",
    "\n",
    "## Cost\n",
    "def CostFunc(theta,X,y):\n",
    "    m,n = X.shape\n",
    "    theta = theta.reshape((n,1))\n",
    "    y = y.reshape((m,1))\n",
    "    term1 = np.log(Sigmoid(X.dot(theta)))\n",
    "    term2 = np.log(1-Sigmoid(X.dot(theta)))\n",
    "    term1 = term1.reshape((m,1))\n",
    "    term2 = term2.reshape((m,1))\n",
    "    term = y * term1 + (1 - y) * term2\n",
    "    J = -((np.sum(term))/m)\n",
    "    return J"
   ]
  },
  {
   "cell_type": "code",
   "execution_count": 372,
   "metadata": {},
   "outputs": [],
   "source": [
    "# 1.2.3 Learning parameters using fminunc\n",
    "x, y = dat.loc[:,['e1_score','e2_score']],np.array(dat['admit']).reshape(100,1)\n",
    "X = np.array(pd.concat([pd.DataFrame(np.ones(len(dat))),x], axis=1))\n",
    "y = np.array(y)\n",
    "theta_initial = np.zeros(len(dat.columns))"
   ]
  },
  {
   "cell_type": "code",
   "execution_count": 373,
   "metadata": {},
   "outputs": [
    {
     "data": {
      "text/plain": [
       "array([-25.16131853,   0.20623159,   0.20147149])"
      ]
     },
     "execution_count": 373,
     "metadata": {},
     "output_type": "execute_result"
    }
   ],
   "source": [
    "## optimization on theta\n",
    "Result = op.minimize(fun = CostFunc, \n",
    "                                 x0 = theta_initial, \n",
    "                                 args = (X, y),\n",
    "                                 method = 'TNC',\n",
    "                                 jac = Gradient)\n",
    "optimal_theta = Result.x\n",
    "optimal_theta"
   ]
  },
  {
   "cell_type": "code",
   "execution_count": 374,
   "metadata": {},
   "outputs": [
    {
     "data": {
      "text/plain": [
       "array([[0.77629062]])"
      ]
     },
     "execution_count": 374,
     "metadata": {},
     "output_type": "execute_result"
    }
   ],
   "source": [
    "# 1.2.4 Evaluating logistic regression\n",
    "## predictive function\n",
    "def logReg(X_test):\n",
    "    return(Sigmoid(optimal_theta.reshape(3,1).T.dot(X_test)))\n",
    "\n",
    "X_test = np.array([[1],[45],[85]])\n",
    "logReg(X_test)"
   ]
  },
  {
   "cell_type": "code",
   "execution_count": 375,
   "metadata": {},
   "outputs": [
    {
     "data": {
      "text/plain": [
       "[<matplotlib.lines.Line2D at 0x21b5ac52988>,\n",
       " <matplotlib.lines.Line2D at 0x21b5acb6388>]"
      ]
     },
     "execution_count": 375,
     "metadata": {},
     "output_type": "execute_result"
    },
    {
     "data": {
      "image/png": "[encoded data removed]",
      "text/plain": [
       "<Figure size 432x288 with 1 Axes>"
      ]
     },
     "metadata": {
      "needs_background": "light"
     },
     "output_type": "display_data"
    }
   ],
   "source": [
    "## boundary visualization\n",
    "plotData(dat,'admited','notAdmited')\n",
    "plt.plot(x, -0.20623159/0.20147149*x + (np.log(1)/0.20147149)-(-25.16131853/0.20147149))  # when boundary is 0.5"
   ]
  },
  {
   "cell_type": "code",
   "execution_count": 376,
   "metadata": {},
   "outputs": [],
   "source": [
    "## prediction function\n",
    "def predict(theta, X):\n",
    "    p = np.zeros(X.shape[0])\n",
    "    p[X.dot(theta)>0] = 1\n",
    "    return p"
   ]
  },
  {
   "cell_type": "code",
   "execution_count": 377,
   "metadata": {},
   "outputs": [
    {
     "name": "stdout",
     "output_type": "stream",
     "text": [
      "Accuracy on training data is 0.89\n"
     ]
    }
   ],
   "source": [
    "# calculate training accuracy\n",
    "accuracy = np.sum(predict(optimal_theta,X).reshape(100,1) == y)/100\n",
    "print('Accuracy on training data is ' + str(accuracy))"
   ]
  },
  {
   "cell_type": "code",
   "execution_count": 378,
   "metadata": {},
   "outputs": [
    {
     "data": {
      "text/html": [
       "<div>\n",
       "<style scoped>\n",
       "    .dataframe tbody tr th:only-of-type {\n",
       "        vertical-align: middle;\n",
       "    }\n",
       "\n",
       "    .dataframe tbody tr th {\n",
       "        vertical-align: top;\n",
       "    }\n",
       "\n",
       "    .dataframe thead th {\n",
       "        text-align: right;\n",
       "    }\n",
       "</style>\n",
       "<table border=\"1\" class=\"dataframe\">\n",
       "  <thead>\n",
       "    <tr style=\"text-align: right;\">\n",
       "      <th></th>\n",
       "      <th>test1</th>\n",
       "      <th>test2</th>\n",
       "      <th>pass</th>\n",
       "    </tr>\n",
       "  </thead>\n",
       "  <tbody>\n",
       "    <tr>\n",
       "      <td>0</td>\n",
       "      <td>0.051267</td>\n",
       "      <td>0.69956</td>\n",
       "      <td>1</td>\n",
       "    </tr>\n",
       "    <tr>\n",
       "      <td>1</td>\n",
       "      <td>-0.092742</td>\n",
       "      <td>0.68494</td>\n",
       "      <td>1</td>\n",
       "    </tr>\n",
       "    <tr>\n",
       "      <td>2</td>\n",
       "      <td>-0.213710</td>\n",
       "      <td>0.69225</td>\n",
       "      <td>1</td>\n",
       "    </tr>\n",
       "    <tr>\n",
       "      <td>3</td>\n",
       "      <td>-0.375000</td>\n",
       "      <td>0.50219</td>\n",
       "      <td>1</td>\n",
       "    </tr>\n",
       "    <tr>\n",
       "      <td>4</td>\n",
       "      <td>-0.513250</td>\n",
       "      <td>0.46564</td>\n",
       "      <td>1</td>\n",
       "    </tr>\n",
       "  </tbody>\n",
       "</table>\n",
       "</div>"
      ],
      "text/plain": [
       "      test1    test2  pass\n",
       "0  0.051267  0.69956     1\n",
       "1 -0.092742  0.68494     1\n",
       "2 -0.213710  0.69225     1\n",
       "3 -0.375000  0.50219     1\n",
       "4 -0.513250  0.46564     1"
      ]
     },
     "execution_count": 378,
     "metadata": {},
     "output_type": "execute_result"
    }
   ],
   "source": [
    "# 2 Regularized logistic regression\n",
    "dat2 = pd.read_table('./ex2data2.txt', sep = ',', names=('test1', 'test2','pass'))\n",
    "dat2.head()"
   ]
  },
  {
   "cell_type": "code",
   "execution_count": 379,
   "metadata": {},
   "outputs": [
    {
     "data": {
      "text/plain": [
       "Text(0, 0.5, 'test 2')"
      ]
     },
     "execution_count": 379,
     "metadata": {},
     "output_type": "execute_result"
    },
    {
     "data": {
      "image/png": "[encoded data removed]",
      "text/plain": [
       "<Figure size 432x288 with 1 Axes>"
      ]
     },
     "metadata": {
      "needs_background": "light"
     },
     "output_type": "display_data"
    }
   ],
   "source": [
    "# visualiza dat2\n",
    "plotData(dat2,'y = 1','y = 0')\n",
    "plt.xlabel('test 1')\n",
    "plt.ylabel('test 2')"
   ]
  },
  {
   "cell_type": "code",
   "execution_count": 385,
   "metadata": {},
   "outputs": [],
   "source": [
    "# 2.2 Feature mapping\n",
    "## quoted from: https://github.com/dibgerge/ml-coursera-python-assignments/blob/master/Exercise2/exercise2.ipynb\n",
    "def mapFeature(X1, X2, degree=6):\n",
    "    \"\"\"\n",
    "    Maps the two input features to quadratic features used in the regularization exercise.\n",
    "    Returns a new feature array with more features, comprising of\n",
    "    X1, X2, X1.^2, X2.^2, X1*X2, X1*X2.^2, etc..\n",
    "    Parameters\n",
    "    ----------\n",
    "    X1 : array_like\n",
    "        A vector of shape (m, 1), containing one feature for all examples.\n",
    "    X2 : array_like\n",
    "        A vector of shape (m, 1), containing a second feature for all examples.\n",
    "        Inputs X1, X2 must be the same size.\n",
    "    degree: int, optional\n",
    "        The polynomial degree.\n",
    "    Returns\n",
    "    -------\n",
    "    : array_like\n",
    "        A matrix of of m rows, and columns depend on the degree of polynomial.\n",
    "    \"\"\"\n",
    "    if X1.ndim > 0:\n",
    "        out = [np.ones(X1.shape[0])]\n",
    "    else:\n",
    "        out = [np.ones(1)]\n",
    "\n",
    "    for i in range(1, degree + 1):\n",
    "        for j in range(i + 1):\n",
    "            out.append((X1 ** (i - j)) * (X2 ** j))\n",
    "\n",
    "    if X1.ndim > 0:\n",
    "        return np.stack(out, axis=1)\n",
    "    else:\n",
    "        return np.array(out)"
   ]
  },
  {
   "cell_type": "code",
   "execution_count": 386,
   "metadata": {},
   "outputs": [],
   "source": [
    "# 2.3 Cost function and gradient\n",
    "## gradient\n",
    "def Gradient_reg(theta,X,y,lambda_):\n",
    "    m,n = X.shape\n",
    "    theta = theta.reshape((n,1))\n",
    "    y = y.reshape((m,1))\n",
    "    grad = ((X.T).dot(Sigmoid(X.dot(theta))-y))/m + lambda_/m*theta\n",
    "    return grad  \n",
    "\n",
    "## Cost\n",
    "def CostFunc_reg(theta,X,y,lambda_):\n",
    "    m,n = X.shape\n",
    "    theta = theta.reshape((n,1))\n",
    "    y = y.reshape((m,1))\n",
    "    term1 = np.log(Sigmoid(X.dot(theta)))\n",
    "    term2 = np.log(1-Sigmoid(X.dot(theta)))\n",
    "    term1 = term1.reshape((m,1))\n",
    "    term2 = term2.reshape((m,1))\n",
    "    term = y * term1 + (1 - y) * term2\n",
    "    J = -((np.sum(term))/m) + lambda_/(2*m)*np.sum(theta**2)\n",
    "    return J"
   ]
  },
  {
   "cell_type": "code",
   "execution_count": 387,
   "metadata": {},
   "outputs": [
    {
     "name": "stdout",
     "output_type": "stream",
     "text": [
      "initial cost is 0.6931471805599454\n"
     ]
    }
   ],
   "source": [
    "# Initialize fitting parameters\n",
    "theta_initial = np.zeros(X.shape[1])\n",
    "lambda_ = 1\n",
    "X = mapFeature(dat2.iloc[:, 0],dat2.iloc[:, 1])\n",
    "y = np.array(dat2['pass']).reshape(len(dat2),1)\n",
    "# Compute and display initial cost and gradient for regularized logistic\n",
    "# regression\n",
    "cost = CostFunc_reg(initial_theta, X, y, lambda_)\n",
    "print('initial cost is ' + str(cost))"
   ]
  },
  {
   "cell_type": "code",
   "execution_count": 388,
   "metadata": {
    "scrolled": true
   },
   "outputs": [
    {
     "data": {
      "text/plain": [
       "array([ 1.14201564,  0.60123715,  1.1671581 , -1.87180903, -0.91567126,\n",
       "       -1.26944013,  0.12678674, -0.36850105, -0.3449425 , -0.17391076,\n",
       "       -1.4237067 , -0.04838577, -0.60631732, -0.26916587, -1.16320192,\n",
       "       -0.24269703, -0.20697485, -0.04305267, -0.28008545, -0.28708931,\n",
       "       -0.46912456, -1.03629766,  0.02904379, -0.29250729,  0.01716376,\n",
       "       -0.32880515, -0.13795624, -0.93187564])"
      ]
     },
     "execution_count": 388,
     "metadata": {},
     "output_type": "execute_result"
    }
   ],
   "source": [
    "## optimization on theta with penalty term\n",
    "Result = op.minimize(fun = CostFunc_reg, \n",
    "                                 x0 = theta_initial, \n",
    "                                 args = (X, y,lambda_),\n",
    "                                 method = 'TNC',\n",
    "                                 jac = Gradient_reg)\n",
    "optimal_theta_reg = Result.x\n",
    "optimal_theta_reg"
   ]
  }
 ],
 "metadata": {
  "kernelspec": {
   "display_name": "Python 3",
   "language": "python",
   "name": "python3"
  },
  "language_info": {
   "codemirror_mode": {
    "name": "ipython",
    "version": 3
   },
   "file_extension": ".py",
   "mimetype": "text/x-python",
   "name": "python",
   "nbconvert_exporter": "python",
   "pygments_lexer": "ipython3",
   "version": "3.7.4"
  }
 },
 "nbformat": 4,
 "nbformat_minor": 2
}
